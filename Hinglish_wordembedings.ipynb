{
  "nbformat": 4,
  "nbformat_minor": 0,
  "metadata": {
    "colab": {
      "name": "Untitled4.ipynb",
      "version": "0.3.2",
      "provenance": [],
      "include_colab_link": true
    },
    "kernelspec": {
      "name": "python3",
      "display_name": "Python 3"
    }
  },
  "cells": [
    {
      "cell_type": "markdown",
      "metadata": {
        "id": "view-in-github",
        "colab_type": "text"
      },
      "source": [
        "[View in Colaboratory](https://colab.research.google.com/github/Dark-Sied/Aidapp/blob/master/Hinglish_wordembedings.ipynb)"
      ]
    },
    {
      "metadata": {
        "id": "KLdDE0jK1bFm",
        "colab_type": "code",
        "colab": {
          "base_uri": "https://localhost:8080/",
          "height": 734
        },
        "outputId": "cd49595b-c398-434f-980f-0f7a42f68cd8"
      },
      "cell_type": "code",
      "source": [
        "!pip install gensim"
      ],
      "execution_count": 1,
      "outputs": [
        {
          "output_type": "stream",
          "text": [
            "Collecting gensim\n",
            "\u001b[?25l  Downloading https://files.pythonhosted.org/packages/86/f3/37504f07651330ddfdefa631ca5246974a60d0908216539efda842fd080f/gensim-3.5.0-cp36-cp36m-manylinux1_x86_64.whl (23.5MB)\n",
            "\u001b[K    100% |████████████████████████████████| 23.5MB 1.4MB/s \n",
            "\u001b[?25hRequirement already satisfied: six>=1.5.0 in /usr/local/lib/python3.6/dist-packages (from gensim) (1.11.0)\n",
            "Requirement already satisfied: scipy>=0.18.1 in /usr/local/lib/python3.6/dist-packages (from gensim) (0.19.1)\n",
            "Collecting smart-open>=1.2.1 (from gensim)\n",
            "  Downloading https://files.pythonhosted.org/packages/cf/3d/5f3a9a296d0ba8e00e263a8dee76762076b9eb5ddc254ccaa834651c8d65/smart_open-1.6.0.tar.gz\n",
            "Requirement already satisfied: numpy>=1.11.3 in /usr/local/lib/python3.6/dist-packages (from gensim) (1.14.5)\n",
            "Collecting boto>=2.32 (from smart-open>=1.2.1->gensim)\n",
            "\u001b[?25l  Downloading https://files.pythonhosted.org/packages/23/10/c0b78c27298029e4454a472a1919bde20cb182dab1662cec7f2ca1dcc523/boto-2.49.0-py2.py3-none-any.whl (1.4MB)\n",
            "\u001b[K    100% |████████████████████████████████| 1.4MB 11.9MB/s \n",
            "\u001b[?25hCollecting bz2file (from smart-open>=1.2.1->gensim)\n",
            "  Downloading https://files.pythonhosted.org/packages/61/39/122222b5e85cd41c391b68a99ee296584b2a2d1d233e7ee32b4532384f2d/bz2file-0.98.tar.gz\n",
            "Requirement already satisfied: requests in /usr/local/lib/python3.6/dist-packages (from smart-open>=1.2.1->gensim) (2.18.4)\n",
            "Collecting boto3 (from smart-open>=1.2.1->gensim)\n",
            "\u001b[?25l  Downloading https://files.pythonhosted.org/packages/a8/45/810f786ce144bfd19d9f2f700a8cd4358435559a2b88b2c235f7bb3f29df/boto3-1.8.6-py2.py3-none-any.whl (128kB)\n",
            "\u001b[K    100% |████████████████████████████████| 133kB 24.3MB/s \n",
            "\u001b[?25hRequirement already satisfied: certifi>=2017.4.17 in /usr/local/lib/python3.6/dist-packages (from requests->smart-open>=1.2.1->gensim) (2018.8.24)\n",
            "Requirement already satisfied: chardet<3.1.0,>=3.0.2 in /usr/local/lib/python3.6/dist-packages (from requests->smart-open>=1.2.1->gensim) (3.0.4)\n",
            "Requirement already satisfied: idna<2.7,>=2.5 in /usr/local/lib/python3.6/dist-packages (from requests->smart-open>=1.2.1->gensim) (2.6)\n",
            "Requirement already satisfied: urllib3<1.23,>=1.21.1 in /usr/local/lib/python3.6/dist-packages (from requests->smart-open>=1.2.1->gensim) (1.22)\n",
            "Collecting botocore<1.12.0,>=1.11.6 (from boto3->smart-open>=1.2.1->gensim)\n",
            "\u001b[?25l  Downloading https://files.pythonhosted.org/packages/52/86/73e2825c9f452f6ea7ebbd715aa4621eb1f5d5e51e37cd2019437535909c/botocore-1.11.6-py2.py3-none-any.whl (4.6MB)\n",
            "\u001b[K    100% |████████████████████████████████| 4.6MB 5.5MB/s \n",
            "\u001b[?25hCollecting s3transfer<0.2.0,>=0.1.10 (from boto3->smart-open>=1.2.1->gensim)\n",
            "\u001b[?25l  Downloading https://files.pythonhosted.org/packages/d7/14/2a0004d487464d120c9fb85313a75cd3d71a7506955be458eebfe19a6b1d/s3transfer-0.1.13-py2.py3-none-any.whl (59kB)\n",
            "\u001b[K    100% |████████████████████████████████| 61kB 16.3MB/s \n",
            "\u001b[?25hCollecting jmespath<1.0.0,>=0.7.1 (from boto3->smart-open>=1.2.1->gensim)\n",
            "  Downloading https://files.pythonhosted.org/packages/b7/31/05c8d001f7f87f0f07289a5fc0fc3832e9a57f2dbd4d3b0fee70e0d51365/jmespath-0.9.3-py2.py3-none-any.whl\n",
            "Requirement already satisfied: python-dateutil<3.0.0,>=2.1; python_version >= \"2.7\" in /usr/local/lib/python3.6/dist-packages (from botocore<1.12.0,>=1.11.6->boto3->smart-open>=1.2.1->gensim) (2.5.3)\n",
            "Collecting docutils>=0.10 (from botocore<1.12.0,>=1.11.6->boto3->smart-open>=1.2.1->gensim)\n",
            "\u001b[?25l  Downloading https://files.pythonhosted.org/packages/36/fa/08e9e6e0e3cbd1d362c3bbee8d01d0aedb2155c4ac112b19ef3cae8eed8d/docutils-0.14-py3-none-any.whl (543kB)\n",
            "\u001b[K    100% |████████████████████████████████| 552kB 20.1MB/s \n",
            "\u001b[?25hBuilding wheels for collected packages: smart-open, bz2file\n",
            "  Running setup.py bdist_wheel for smart-open ... \u001b[?25l-\b \b\\\b \bdone\n",
            "\u001b[?25h  Stored in directory: /root/.cache/pip/wheels/73/f1/9b/ccf93d4ba073b6f79b1ed9df68ab5ce048d8136d0efcf90b30\n",
            "  Running setup.py bdist_wheel for bz2file ... \u001b[?25l-\b \bdone\n",
            "\u001b[?25h  Stored in directory: /root/.cache/pip/wheels/81/75/d6/e1317bf09bf1af5a30befc2a007869fa6e1f516b8f7c591cb9\n",
            "Successfully built smart-open bz2file\n",
            "Installing collected packages: boto, bz2file, docutils, jmespath, botocore, s3transfer, boto3, smart-open, gensim\n",
            "Successfully installed boto-2.49.0 boto3-1.8.6 botocore-1.11.6 bz2file-0.98 docutils-0.14 gensim-3.5.0 jmespath-0.9.3 s3transfer-0.1.13 smart-open-1.6.0\n"
          ],
          "name": "stdout"
        }
      ]
    },
    {
      "metadata": {
        "id": "unPCCwRc1dog",
        "colab_type": "code",
        "colab": {
          "base_uri": "https://localhost:8080/",
          "height": 34
        },
        "outputId": "56600d52-df55-44c3-c15c-198f1a6e879f"
      },
      "cell_type": "code",
      "source": [
        "import numpy as np # linear algebra\n",
        "import pandas as pd # data processing, CSV file I/O (e.g. pd.read_csv)\n",
        "import gensim\n",
        "import bs4 as bs\n",
        "import nltk\n",
        "import re\n",
        "from keras.preprocessing.text import one_hot\n",
        "from nltk.corpus import stopwords\n",
        "from gensim.models import Word2Vec\n",
        "\n",
        "from keras.preprocessing.text import Tokenizer\n",
        "from keras.preprocessing.sequence import pad_sequences\n",
        "from keras.models import Sequential\n",
        "from keras.layers import Dense\n",
        "from keras.layers import Flatten\n",
        "from keras.layers.embeddings import Embedding\n",
        "\n"
      ],
      "execution_count": 2,
      "outputs": [
        {
          "output_type": "stream",
          "text": [
            "Using TensorFlow backend.\n"
          ],
          "name": "stderr"
        }
      ]
    },
    {
      "metadata": {
        "id": "E8mT2Ev--2s3",
        "colab_type": "code",
        "colab": {
          "base_uri": "https://localhost:8080/",
          "height": 68
        },
        "outputId": "0f1008b5-6f73-4469-cbcd-121b9ab5c3ef"
      },
      "cell_type": "code",
      "source": [
        "nltk.download('stopwords')"
      ],
      "execution_count": 3,
      "outputs": [
        {
          "output_type": "stream",
          "text": [
            "[nltk_data] Downloading package stopwords to /root/nltk_data...\n",
            "[nltk_data]   Unzipping corpora/stopwords.zip.\n"
          ],
          "name": "stdout"
        },
        {
          "output_type": "execute_result",
          "data": {
            "text/plain": [
              "True"
            ]
          },
          "metadata": {
            "tags": []
          },
          "execution_count": 3
        }
      ]
    },
    {
      "metadata": {
        "id": "xTTEKfgF_859",
        "colab_type": "code",
        "colab": {}
      },
      "cell_type": "code",
      "source": [
        "stop_words = set(stopwords.words('english'))"
      ],
      "execution_count": 0,
      "outputs": []
    },
    {
      "metadata": {
        "id": "XpgkjVBJRxQw",
        "colab_type": "code",
        "colab": {
          "base_uri": "https://localhost:8080/",
          "height": 51
        },
        "outputId": "4dd68301-004b-4867-8b90-c61c5c4ab684"
      },
      "cell_type": "code",
      "source": [
        "!ls"
      ],
      "execution_count": 8,
      "outputs": [
        {
          "output_type": "stream",
          "text": [
            "english_text.csv  hinglish_new.w2v   hinglish_text.csv\tstopwords_list.txt\r\n",
            "harry.w2v\t  HinglishSentiment  sample_data\tword_embeddings_hp\r\n"
          ],
          "name": "stdout"
        }
      ]
    },
    {
      "metadata": {
        "id": "iNzK09ah_6XJ",
        "colab_type": "code",
        "colab": {
          "base_uri": "https://localhost:8080/",
          "height": 54
        },
        "outputId": "a735b62a-b0a7-46be-e1d4-3b81990b4269"
      },
      "cell_type": "code",
      "source": [
        "stop_word = []\n",
        "with open(\"stopwords_list.txt\") as f:\n",
        "  word = f.readlines()\n",
        "#   print(word)\n",
        "  for i in word:\n",
        "#     print(i)\n",
        "    stop_word.append(i.rstrip())\n",
        "  print(stop_word)"
      ],
      "execution_count": 9,
      "outputs": [
        {
          "output_type": "stream",
          "text": [
            "['ke', 'ka', 'ek', 'mein', 'ki', 'hai', 'yah', 'aur', 'se', 'hain', 'ko', 'par', 'iss', 'hota', 'jo', 'kar', 'me', 'gaya', 'karne', 'kiya', 'liye', 'apne', 'ne', 'bani', 'nahi', 'toh', 'hi', 'ya', 'avam', 'diya', 'ho', 'iska', 'tha', 'dhvara', 'hua', 'tak', 'saath', 'karna', 'vaale', 'baad', 'liya', 'aap', 'kuchh', 'sakte', 'kisi', 'ye', 'iska', 'sabse', 'ismein', 'the', 'do', 'hone', 'vah', 've', 'karte', 'bahut', 'kaha', 'varg', 'kai', 'karein', 'hoti', 'apni', 'unke', 'thi', 'yadi', 'hui', 'jaa', 'na', 'ise', 'kehte', 'kahte', 'jab', 'hote', 'koi', 'hue', 'va', 'abhi', 'jaise', 'sabhi', 'karta', 'unki', 'tarah', 'uss', 'aadi', 'kul', 'raha', 'iski', 'sakta', 'rahe', 'unka', 'issi', 'rakhein', 'apna', 'pe', 'uske']\n"
          ],
          "name": "stdout"
        }
      ]
    },
    {
      "metadata": {
        "id": "KuWZmfJD1oeb",
        "colab_type": "code",
        "colab": {
          "base_uri": "https://localhost:8080/",
          "height": 51
        },
        "outputId": "e8d52c23-c66b-42c4-90e9-c08df40097ac"
      },
      "cell_type": "code",
      "source": [
        "!ls"
      ],
      "execution_count": 3,
      "outputs": [
        {
          "output_type": "stream",
          "text": [
            "english_text.csv  HinglishSentiment  hinglish.w2v  word_embeddings_hp\r\n",
            "harry.w2v\t  hinglish_text.csv  sample_data\r\n"
          ],
          "name": "stdout"
        }
      ]
    },
    {
      "metadata": {
        "id": "KHGVYNFJ4Pym",
        "colab_type": "code",
        "colab": {
          "base_uri": "https://localhost:8080/",
          "height": 204
        },
        "outputId": "7795d8a6-84ee-4971-d834-ac73a30d5249"
      },
      "cell_type": "code",
      "source": [
        "hinglish = pd.read_csv(\"hinglish_text.csv\")\n",
        "hinglish.head()"
      ],
      "execution_count": 10,
      "outputs": [
        {
          "output_type": "execute_result",
          "data": {
            "text/html": [
              "<div>\n",
              "<style scoped>\n",
              "    .dataframe tbody tr th:only-of-type {\n",
              "        vertical-align: middle;\n",
              "    }\n",
              "\n",
              "    .dataframe tbody tr th {\n",
              "        vertical-align: top;\n",
              "    }\n",
              "\n",
              "    .dataframe thead th {\n",
              "        text-align: right;\n",
              "    }\n",
              "</style>\n",
              "<table border=\"1\" class=\"dataframe\">\n",
              "  <thead>\n",
              "    <tr style=\"text-align: right;\">\n",
              "      <th></th>\n",
              "      <th>Unnamed: 0</th>\n",
              "      <th>text</th>\n",
              "    </tr>\n",
              "  </thead>\n",
              "  <tbody>\n",
              "    <tr>\n",
              "      <th>0</th>\n",
              "      <td>0</td>\n",
              "      <td>ek din mujhe yunivarsal kampani ke karl laeeml...</td>\n",
              "    </tr>\n",
              "    <tr>\n",
              "      <th>1</th>\n",
              "      <td>1</td>\n",
              "      <td>jess robins nam ke ek yuva jo aisene kampani k...</td>\n",
              "    </tr>\n",
              "    <tr>\n",
              "      <th>2</th>\n",
              "      <td>2</td>\n",
              "      <td>us rat mainne robins ko dinar par aamantrit ki...</td>\n",
              "    </tr>\n",
              "    <tr>\n",
              "      <th>3</th>\n",
              "      <td>3</td>\n",
              "      <td>main sataven aasaman par tha prastav itana sha...</td>\n",
              "    </tr>\n",
              "    <tr>\n",
              "      <th>4</th>\n",
              "      <td>4</td>\n",
              "      <td>halanki mere shak ne sir uthana shuroo kar diy...</td>\n",
              "    </tr>\n",
              "  </tbody>\n",
              "</table>\n",
              "</div>"
            ],
            "text/plain": [
              "   Unnamed: 0                                               text\n",
              "0           0  ek din mujhe yunivarsal kampani ke karl laeeml...\n",
              "1           1  jess robins nam ke ek yuva jo aisene kampani k...\n",
              "2           2  us rat mainne robins ko dinar par aamantrit ki...\n",
              "3           3  main sataven aasaman par tha prastav itana sha...\n",
              "4           4  halanki mere shak ne sir uthana shuroo kar diy..."
            ]
          },
          "metadata": {
            "tags": []
          },
          "execution_count": 10
        }
      ]
    },
    {
      "metadata": {
        "id": "CIeLRnWk5dIs",
        "colab_type": "code",
        "colab": {}
      },
      "cell_type": "code",
      "source": [
        "hinglish[\"labels\"] = 1"
      ],
      "execution_count": 0,
      "outputs": []
    },
    {
      "metadata": {
        "id": "q_mEIIUE5lf4",
        "colab_type": "code",
        "colab": {
          "base_uri": "https://localhost:8080/",
          "height": 204
        },
        "outputId": "86439021-0747-4a2c-9a8a-115247b4e922"
      },
      "cell_type": "code",
      "source": [
        "hinglish.head()"
      ],
      "execution_count": 12,
      "outputs": [
        {
          "output_type": "execute_result",
          "data": {
            "text/html": [
              "<div>\n",
              "<style scoped>\n",
              "    .dataframe tbody tr th:only-of-type {\n",
              "        vertical-align: middle;\n",
              "    }\n",
              "\n",
              "    .dataframe tbody tr th {\n",
              "        vertical-align: top;\n",
              "    }\n",
              "\n",
              "    .dataframe thead th {\n",
              "        text-align: right;\n",
              "    }\n",
              "</style>\n",
              "<table border=\"1\" class=\"dataframe\">\n",
              "  <thead>\n",
              "    <tr style=\"text-align: right;\">\n",
              "      <th></th>\n",
              "      <th>Unnamed: 0</th>\n",
              "      <th>text</th>\n",
              "      <th>labels</th>\n",
              "    </tr>\n",
              "  </thead>\n",
              "  <tbody>\n",
              "    <tr>\n",
              "      <th>0</th>\n",
              "      <td>0</td>\n",
              "      <td>ek din mujhe yunivarsal kampani ke karl laeeml...</td>\n",
              "      <td>1</td>\n",
              "    </tr>\n",
              "    <tr>\n",
              "      <th>1</th>\n",
              "      <td>1</td>\n",
              "      <td>jess robins nam ke ek yuva jo aisene kampani k...</td>\n",
              "      <td>1</td>\n",
              "    </tr>\n",
              "    <tr>\n",
              "      <th>2</th>\n",
              "      <td>2</td>\n",
              "      <td>us rat mainne robins ko dinar par aamantrit ki...</td>\n",
              "      <td>1</td>\n",
              "    </tr>\n",
              "    <tr>\n",
              "      <th>3</th>\n",
              "      <td>3</td>\n",
              "      <td>main sataven aasaman par tha prastav itana sha...</td>\n",
              "      <td>1</td>\n",
              "    </tr>\n",
              "    <tr>\n",
              "      <th>4</th>\n",
              "      <td>4</td>\n",
              "      <td>halanki mere shak ne sir uthana shuroo kar diy...</td>\n",
              "      <td>1</td>\n",
              "    </tr>\n",
              "  </tbody>\n",
              "</table>\n",
              "</div>"
            ],
            "text/plain": [
              "   Unnamed: 0                                               text  labels\n",
              "0           0  ek din mujhe yunivarsal kampani ke karl laeeml...       1\n",
              "1           1  jess robins nam ke ek yuva jo aisene kampani k...       1\n",
              "2           2  us rat mainne robins ko dinar par aamantrit ki...       1\n",
              "3           3  main sataven aasaman par tha prastav itana sha...       1\n",
              "4           4  halanki mere shak ne sir uthana shuroo kar diy...       1"
            ]
          },
          "metadata": {
            "tags": []
          },
          "execution_count": 12
        }
      ]
    },
    {
      "metadata": {
        "id": "Q3aKe5iq5yC6",
        "colab_type": "code",
        "colab": {
          "base_uri": "https://localhost:8080/",
          "height": 204
        },
        "outputId": "05383b8e-de06-4f07-e8d9-30d0c2e4e996"
      },
      "cell_type": "code",
      "source": [
        "english = pd.read_csv(\"english_text.csv\")\n",
        "english.head()"
      ],
      "execution_count": 13,
      "outputs": [
        {
          "output_type": "execute_result",
          "data": {
            "text/html": [
              "<div>\n",
              "<style scoped>\n",
              "    .dataframe tbody tr th:only-of-type {\n",
              "        vertical-align: middle;\n",
              "    }\n",
              "\n",
              "    .dataframe tbody tr th {\n",
              "        vertical-align: top;\n",
              "    }\n",
              "\n",
              "    .dataframe thead th {\n",
              "        text-align: right;\n",
              "    }\n",
              "</style>\n",
              "<table border=\"1\" class=\"dataframe\">\n",
              "  <thead>\n",
              "    <tr style=\"text-align: right;\">\n",
              "      <th></th>\n",
              "      <th>Unnamed: 0</th>\n",
              "      <th>text</th>\n",
              "    </tr>\n",
              "  </thead>\n",
              "  <tbody>\n",
              "    <tr>\n",
              "      <th>0</th>\n",
              "      <td>0</td>\n",
              "      <td>Harry Potter and the Sorcerers Stone</td>\n",
              "    </tr>\n",
              "    <tr>\n",
              "      <th>1</th>\n",
              "      <td>1</td>\n",
              "      <td>CHAPTER ONE</td>\n",
              "    </tr>\n",
              "    <tr>\n",
              "      <th>2</th>\n",
              "      <td>2</td>\n",
              "      <td>THE BOY WHO LIVED</td>\n",
              "    </tr>\n",
              "    <tr>\n",
              "      <th>3</th>\n",
              "      <td>3</td>\n",
              "      <td>Mr and Mrs Dursley of number four Privet Drive...</td>\n",
              "    </tr>\n",
              "    <tr>\n",
              "      <th>4</th>\n",
              "      <td>4</td>\n",
              "      <td>Mr Dursley was the director of a firm called G...</td>\n",
              "    </tr>\n",
              "  </tbody>\n",
              "</table>\n",
              "</div>"
            ],
            "text/plain": [
              "   Unnamed: 0                                               text\n",
              "0           0               Harry Potter and the Sorcerers Stone\n",
              "1           1                                        CHAPTER ONE\n",
              "2           2                                  THE BOY WHO LIVED\n",
              "3           3  Mr and Mrs Dursley of number four Privet Drive...\n",
              "4           4  Mr Dursley was the director of a firm called G..."
            ]
          },
          "metadata": {
            "tags": []
          },
          "execution_count": 13
        }
      ]
    },
    {
      "metadata": {
        "id": "SKwgbjhu57LJ",
        "colab_type": "code",
        "colab": {
          "base_uri": "https://localhost:8080/",
          "height": 204
        },
        "outputId": "e9cb283c-0956-4c11-9a96-a578040a8330"
      },
      "cell_type": "code",
      "source": [
        "english[\"labels\"] = 0\n",
        "english.head()"
      ],
      "execution_count": 14,
      "outputs": [
        {
          "output_type": "execute_result",
          "data": {
            "text/html": [
              "<div>\n",
              "<style scoped>\n",
              "    .dataframe tbody tr th:only-of-type {\n",
              "        vertical-align: middle;\n",
              "    }\n",
              "\n",
              "    .dataframe tbody tr th {\n",
              "        vertical-align: top;\n",
              "    }\n",
              "\n",
              "    .dataframe thead th {\n",
              "        text-align: right;\n",
              "    }\n",
              "</style>\n",
              "<table border=\"1\" class=\"dataframe\">\n",
              "  <thead>\n",
              "    <tr style=\"text-align: right;\">\n",
              "      <th></th>\n",
              "      <th>Unnamed: 0</th>\n",
              "      <th>text</th>\n",
              "      <th>labels</th>\n",
              "    </tr>\n",
              "  </thead>\n",
              "  <tbody>\n",
              "    <tr>\n",
              "      <th>0</th>\n",
              "      <td>0</td>\n",
              "      <td>Harry Potter and the Sorcerers Stone</td>\n",
              "      <td>0</td>\n",
              "    </tr>\n",
              "    <tr>\n",
              "      <th>1</th>\n",
              "      <td>1</td>\n",
              "      <td>CHAPTER ONE</td>\n",
              "      <td>0</td>\n",
              "    </tr>\n",
              "    <tr>\n",
              "      <th>2</th>\n",
              "      <td>2</td>\n",
              "      <td>THE BOY WHO LIVED</td>\n",
              "      <td>0</td>\n",
              "    </tr>\n",
              "    <tr>\n",
              "      <th>3</th>\n",
              "      <td>3</td>\n",
              "      <td>Mr and Mrs Dursley of number four Privet Drive...</td>\n",
              "      <td>0</td>\n",
              "    </tr>\n",
              "    <tr>\n",
              "      <th>4</th>\n",
              "      <td>4</td>\n",
              "      <td>Mr Dursley was the director of a firm called G...</td>\n",
              "      <td>0</td>\n",
              "    </tr>\n",
              "  </tbody>\n",
              "</table>\n",
              "</div>"
            ],
            "text/plain": [
              "   Unnamed: 0                                               text  labels\n",
              "0           0               Harry Potter and the Sorcerers Stone       0\n",
              "1           1                                        CHAPTER ONE       0\n",
              "2           2                                  THE BOY WHO LIVED       0\n",
              "3           3  Mr and Mrs Dursley of number four Privet Drive...       0\n",
              "4           4  Mr Dursley was the director of a firm called G...       0"
            ]
          },
          "metadata": {
            "tags": []
          },
          "execution_count": 14
        }
      ]
    },
    {
      "metadata": {
        "id": "fMZQuOrL6AX8",
        "colab_type": "code",
        "colab": {
          "base_uri": "https://localhost:8080/",
          "height": 204
        },
        "outputId": "90c88e42-df58-46cd-fc2a-de27a3456ed2"
      },
      "cell_type": "code",
      "source": [
        "final_data = hinglish.append(english)\n",
        "# final_data.sample(frac = 1).reset_index(drop = True)\n",
        "final_data.head()"
      ],
      "execution_count": 15,
      "outputs": [
        {
          "output_type": "execute_result",
          "data": {
            "text/html": [
              "<div>\n",
              "<style scoped>\n",
              "    .dataframe tbody tr th:only-of-type {\n",
              "        vertical-align: middle;\n",
              "    }\n",
              "\n",
              "    .dataframe tbody tr th {\n",
              "        vertical-align: top;\n",
              "    }\n",
              "\n",
              "    .dataframe thead th {\n",
              "        text-align: right;\n",
              "    }\n",
              "</style>\n",
              "<table border=\"1\" class=\"dataframe\">\n",
              "  <thead>\n",
              "    <tr style=\"text-align: right;\">\n",
              "      <th></th>\n",
              "      <th>Unnamed: 0</th>\n",
              "      <th>text</th>\n",
              "      <th>labels</th>\n",
              "    </tr>\n",
              "  </thead>\n",
              "  <tbody>\n",
              "    <tr>\n",
              "      <th>0</th>\n",
              "      <td>0</td>\n",
              "      <td>ek din mujhe yunivarsal kampani ke karl laeeml...</td>\n",
              "      <td>1</td>\n",
              "    </tr>\n",
              "    <tr>\n",
              "      <th>1</th>\n",
              "      <td>1</td>\n",
              "      <td>jess robins nam ke ek yuva jo aisene kampani k...</td>\n",
              "      <td>1</td>\n",
              "    </tr>\n",
              "    <tr>\n",
              "      <th>2</th>\n",
              "      <td>2</td>\n",
              "      <td>us rat mainne robins ko dinar par aamantrit ki...</td>\n",
              "      <td>1</td>\n",
              "    </tr>\n",
              "    <tr>\n",
              "      <th>3</th>\n",
              "      <td>3</td>\n",
              "      <td>main sataven aasaman par tha prastav itana sha...</td>\n",
              "      <td>1</td>\n",
              "    </tr>\n",
              "    <tr>\n",
              "      <th>4</th>\n",
              "      <td>4</td>\n",
              "      <td>halanki mere shak ne sir uthana shuroo kar diy...</td>\n",
              "      <td>1</td>\n",
              "    </tr>\n",
              "  </tbody>\n",
              "</table>\n",
              "</div>"
            ],
            "text/plain": [
              "   Unnamed: 0                                               text  labels\n",
              "0           0  ek din mujhe yunivarsal kampani ke karl laeeml...       1\n",
              "1           1  jess robins nam ke ek yuva jo aisene kampani k...       1\n",
              "2           2  us rat mainne robins ko dinar par aamantrit ki...       1\n",
              "3           3  main sataven aasaman par tha prastav itana sha...       1\n",
              "4           4  halanki mere shak ne sir uthana shuroo kar diy...       1"
            ]
          },
          "metadata": {
            "tags": []
          },
          "execution_count": 15
        }
      ]
    },
    {
      "metadata": {
        "id": "OtpRXjsw98Gf",
        "colab_type": "code",
        "colab": {
          "base_uri": "https://localhost:8080/",
          "height": 1969
        },
        "outputId": "2bea06d4-23ca-4b32-e01f-11f57b9c33d1"
      },
      "cell_type": "code",
      "source": [
        "from sklearn.utils import shuffle\n",
        "final_data = shuffle(final_data)\n",
        "final_data"
      ],
      "execution_count": 16,
      "outputs": [
        {
          "output_type": "execute_result",
          "data": {
            "text/html": [
              "<div>\n",
              "<style scoped>\n",
              "    .dataframe tbody tr th:only-of-type {\n",
              "        vertical-align: middle;\n",
              "    }\n",
              "\n",
              "    .dataframe tbody tr th {\n",
              "        vertical-align: top;\n",
              "    }\n",
              "\n",
              "    .dataframe thead th {\n",
              "        text-align: right;\n",
              "    }\n",
              "</style>\n",
              "<table border=\"1\" class=\"dataframe\">\n",
              "  <thead>\n",
              "    <tr style=\"text-align: right;\">\n",
              "      <th></th>\n",
              "      <th>Unnamed: 0</th>\n",
              "      <th>text</th>\n",
              "      <th>labels</th>\n",
              "    </tr>\n",
              "  </thead>\n",
              "  <tbody>\n",
              "    <tr>\n",
              "      <th>7292</th>\n",
              "      <td>7292</td>\n",
              "      <td>Angelina scoring</td>\n",
              "      <td>0</td>\n",
              "    </tr>\n",
              "    <tr>\n",
              "      <th>26114</th>\n",
              "      <td>26114</td>\n",
              "      <td>arent we still underground</td>\n",
              "      <td>0</td>\n",
              "    </tr>\n",
              "    <tr>\n",
              "      <th>27355</th>\n",
              "      <td>27355</td>\n",
              "      <td>Um said Cho Well just thought Id say hello bye...</td>\n",
              "      <td>0</td>\n",
              "    </tr>\n",
              "    <tr>\n",
              "      <th>33915</th>\n",
              "      <td>33915</td>\n",
              "      <td>lined with more portraits of famous Healers an...</td>\n",
              "      <td>0</td>\n",
              "    </tr>\n",
              "    <tr>\n",
              "      <th>2142</th>\n",
              "      <td>2142</td>\n",
              "      <td>Har Ladki Ke Liye Ek Account Aajkal ek ladki ...</td>\n",
              "      <td>1</td>\n",
              "    </tr>\n",
              "    <tr>\n",
              "      <th>10663</th>\n",
              "      <td>10663</td>\n",
              "      <td>when he hit the ground the pipe leveled out an...</td>\n",
              "      <td>0</td>\n",
              "    </tr>\n",
              "    <tr>\n",
              "      <th>31194</th>\n",
              "      <td>31194</td>\n",
              "      <td>Right said Harry vaguely putting down the bott...</td>\n",
              "      <td>0</td>\n",
              "    </tr>\n",
              "    <tr>\n",
              "      <th>2194</th>\n",
              "      <td>2194</td>\n",
              "      <td>Hagrids chest swelled at these last words Harr...</td>\n",
              "      <td>0</td>\n",
              "    </tr>\n",
              "    <tr>\n",
              "      <th>10142</th>\n",
              "      <td>10142</td>\n",
              "      <td>Gryffindor common room where the fire had burn...</td>\n",
              "      <td>0</td>\n",
              "    </tr>\n",
              "    <tr>\n",
              "      <th>52014</th>\n",
              "      <td>52014</td>\n",
              "      <td>From above came Bellatrixs voice</td>\n",
              "      <td>0</td>\n",
              "    </tr>\n",
              "    <tr>\n",
              "      <th>4496</th>\n",
              "      <td>4496</td>\n",
              "      <td>and Hermione in an undertone as they left Perc...</td>\n",
              "      <td>0</td>\n",
              "    </tr>\n",
              "    <tr>\n",
              "      <th>28635</th>\n",
              "      <td>28635</td>\n",
              "      <td>parchment and tapped it with her wand it seale...</td>\n",
              "      <td>0</td>\n",
              "    </tr>\n",
              "    <tr>\n",
              "      <th>8897</th>\n",
              "      <td>8897</td>\n",
              "      <td>Oooh it might have hidden powers said Hermione...</td>\n",
              "      <td>0</td>\n",
              "    </tr>\n",
              "    <tr>\n",
              "      <th>36139</th>\n",
              "      <td>36139</td>\n",
              "      <td>would have thought that after over two months ...</td>\n",
              "      <td>0</td>\n",
              "    </tr>\n",
              "    <tr>\n",
              "      <th>42563</th>\n",
              "      <td>42563</td>\n",
              "      <td>She stepped forward so that she stood over the...</td>\n",
              "      <td>0</td>\n",
              "    </tr>\n",
              "    <tr>\n",
              "      <th>9380</th>\n",
              "      <td>9380</td>\n",
              "      <td>pored over lists of new subjects marking them ...</td>\n",
              "      <td>0</td>\n",
              "    </tr>\n",
              "    <tr>\n",
              "      <th>43235</th>\n",
              "      <td>43235</td>\n",
              "      <td>Oh come off it said Ron striding over to her a...</td>\n",
              "      <td>0</td>\n",
              "    </tr>\n",
              "    <tr>\n",
              "      <th>43164</th>\n",
              "      <td>43164</td>\n",
              "      <td>Dont worry said Ron who was plainly trying not...</td>\n",
              "      <td>0</td>\n",
              "    </tr>\n",
              "    <tr>\n",
              "      <th>52237</th>\n",
              "      <td>52237</td>\n",
              "      <td>As she spoke she pulled aside the neck of the ...</td>\n",
              "      <td>0</td>\n",
              "    </tr>\n",
              "    <tr>\n",
              "      <th>7696</th>\n",
              "      <td>7696</td>\n",
              "      <td>suspicious The holidays would be the perfect t...</td>\n",
              "      <td>0</td>\n",
              "    </tr>\n",
              "    <tr>\n",
              "      <th>5158</th>\n",
              "      <td>5158</td>\n",
              "      <td>been brought up for them and stood at the ends...</td>\n",
              "      <td>0</td>\n",
              "    </tr>\n",
              "    <tr>\n",
              "      <th>935</th>\n",
              "      <td>935</td>\n",
              "      <td>dekh le am too weak loser mera hath na pakro n...</td>\n",
              "      <td>1</td>\n",
              "    </tr>\n",
              "    <tr>\n",
              "      <th>47517</th>\n",
              "      <td>47517</td>\n",
              "      <td>When did it appear asked Dumbledore and his ha...</td>\n",
              "      <td>0</td>\n",
              "    </tr>\n",
              "    <tr>\n",
              "      <th>5346</th>\n",
              "      <td>5346</td>\n",
              "      <td>There was a scramble as everyone tried to seiz...</td>\n",
              "      <td>0</td>\n",
              "    </tr>\n",
              "    <tr>\n",
              "      <th>3203</th>\n",
              "      <td>3203</td>\n",
              "      <td>gantavy par pahunchane ke Theek paanch minaT p...</td>\n",
              "      <td>1</td>\n",
              "    </tr>\n",
              "    <tr>\n",
              "      <th>27516</th>\n",
              "      <td>27516</td>\n",
              "      <td>They shuffled out of the compartment feeling t...</td>\n",
              "      <td>0</td>\n",
              "    </tr>\n",
              "    <tr>\n",
              "      <th>12973</th>\n",
              "      <td>12973</td>\n",
              "      <td>Know what</td>\n",
              "      <td>0</td>\n",
              "    </tr>\n",
              "    <tr>\n",
              "      <th>10537</th>\n",
              "      <td>10537</td>\n",
              "      <td>the back of the door as he spoke and starting ...</td>\n",
              "      <td>0</td>\n",
              "    </tr>\n",
              "    <tr>\n",
              "      <th>2581</th>\n",
              "      <td>2581</td>\n",
              "      <td>san  ya  kee bat hai jab mainne alasi kee ubha...</td>\n",
              "      <td>1</td>\n",
              "    </tr>\n",
              "    <tr>\n",
              "      <th>3693</th>\n",
              "      <td>3693</td>\n",
              "      <td>Ron Fred and George seized Harrys arms and pul...</td>\n",
              "      <td>0</td>\n",
              "    </tr>\n",
              "    <tr>\n",
              "      <th>...</th>\n",
              "      <td>...</td>\n",
              "      <td>...</td>\n",
              "      <td>...</td>\n",
              "    </tr>\n",
              "    <tr>\n",
              "      <th>8015</th>\n",
              "      <td>8015</td>\n",
              "      <td>room while Ron and Hermione used their time of...</td>\n",
              "      <td>0</td>\n",
              "    </tr>\n",
              "    <tr>\n",
              "      <th>42828</th>\n",
              "      <td>42828</td>\n",
              "      <td>All right then one drink he said ungraciously</td>\n",
              "      <td>0</td>\n",
              "    </tr>\n",
              "    <tr>\n",
              "      <th>35546</th>\n",
              "      <td>35546</td>\n",
              "      <td>there would be someone in here with whom he co...</td>\n",
              "      <td>0</td>\n",
              "    </tr>\n",
              "    <tr>\n",
              "      <th>48695</th>\n",
              "      <td>48695</td>\n",
              "      <td>Only Harry Hagrid George and me</td>\n",
              "      <td>0</td>\n",
              "    </tr>\n",
              "    <tr>\n",
              "      <th>49755</th>\n",
              "      <td>49755</td>\n",
              "      <td>We woke up and didnt know where you were she s...</td>\n",
              "      <td>0</td>\n",
              "    </tr>\n",
              "    <tr>\n",
              "      <th>355</th>\n",
              "      <td>355</td>\n",
              "      <td>There was a crash behind them and Uncle Vernon...</td>\n",
              "      <td>0</td>\n",
              "    </tr>\n",
              "    <tr>\n",
              "      <th>23872</th>\n",
              "      <td>23872</td>\n",
              "      <td>Aunt Petunia had her arms around Dudley who wa...</td>\n",
              "      <td>0</td>\n",
              "    </tr>\n",
              "    <tr>\n",
              "      <th>26906</th>\n",
              "      <td>26906</td>\n",
              "      <td>Harry Rons best friend in the world going to s...</td>\n",
              "      <td>0</td>\n",
              "    </tr>\n",
              "    <tr>\n",
              "      <th>29239</th>\n",
              "      <td>29239</td>\n",
              "      <td>towards the staff table when he entered the Gr...</td>\n",
              "      <td>0</td>\n",
              "    </tr>\n",
              "    <tr>\n",
              "      <th>48247</th>\n",
              "      <td>48247</td>\n",
              "      <td>Though Ariana had been in poor health for a lo...</td>\n",
              "      <td>0</td>\n",
              "    </tr>\n",
              "    <tr>\n",
              "      <th>1423</th>\n",
              "      <td>1423</td>\n",
              "      <td>You said Ron furiously Go back to bed</td>\n",
              "      <td>0</td>\n",
              "    </tr>\n",
              "    <tr>\n",
              "      <th>35897</th>\n",
              "      <td>35897</td>\n",
              "      <td>Says you dont come across as a mad person but ...</td>\n",
              "      <td>0</td>\n",
              "    </tr>\n",
              "    <tr>\n",
              "      <th>37460</th>\n",
              "      <td>37460</td>\n",
              "      <td>he had just seen What was making Harry feel so...</td>\n",
              "      <td>0</td>\n",
              "    </tr>\n",
              "    <tr>\n",
              "      <th>48441</th>\n",
              "      <td>48441</td>\n",
              "      <td>Thats brilliant congrat</td>\n",
              "      <td>0</td>\n",
              "    </tr>\n",
              "    <tr>\n",
              "      <th>49335</th>\n",
              "      <td>49335</td>\n",
              "      <td>That was the one you nearly swallowed</td>\n",
              "      <td>0</td>\n",
              "    </tr>\n",
              "    <tr>\n",
              "      <th>16609</th>\n",
              "      <td>16609</td>\n",
              "      <td>And yetand yetHarry went restlessly back to th...</td>\n",
              "      <td>0</td>\n",
              "    </tr>\n",
              "    <tr>\n",
              "      <th>43045</th>\n",
              "      <td>43045</td>\n",
              "      <td>trunk The room looked as though it was being u...</td>\n",
              "      <td>0</td>\n",
              "    </tr>\n",
              "    <tr>\n",
              "      <th>859</th>\n",
              "      <td>859</td>\n",
              "      <td>unhonne bataya ki is samay kee ye sabase badi ...</td>\n",
              "      <td>1</td>\n",
              "    </tr>\n",
              "    <tr>\n",
              "      <th>44162</th>\n",
              "      <td>44162</td>\n",
              "      <td>Or hell nail you to the door</td>\n",
              "      <td>0</td>\n",
              "    </tr>\n",
              "    <tr>\n",
              "      <th>50171</th>\n",
              "      <td>50171</td>\n",
              "      <td>Phineas Nigellus Hermione explained as she thr...</td>\n",
              "      <td>0</td>\n",
              "    </tr>\n",
              "    <tr>\n",
              "      <th>24190</th>\n",
              "      <td>24190</td>\n",
              "      <td>though his eyes stung and itched with tirednes...</td>\n",
              "      <td>0</td>\n",
              "    </tr>\n",
              "    <tr>\n",
              "      <th>53711</th>\n",
              "      <td>53711</td>\n",
              "      <td>The castle was unnaturally silent There were n...</td>\n",
              "      <td>0</td>\n",
              "    </tr>\n",
              "    <tr>\n",
              "      <th>3652</th>\n",
              "      <td>3652</td>\n",
              "      <td>Tum jise chahte ho poori tarah se usi ke jais...</td>\n",
              "      <td>1</td>\n",
              "    </tr>\n",
              "    <tr>\n",
              "      <th>7033</th>\n",
              "      <td>7033</td>\n",
              "      <td>of them have been in Slytherin hes always boas...</td>\n",
              "      <td>0</td>\n",
              "    </tr>\n",
              "    <tr>\n",
              "      <th>49369</th>\n",
              "      <td>49369</td>\n",
              "      <td>Three oclock on the following afternoon found ...</td>\n",
              "      <td>0</td>\n",
              "    </tr>\n",
              "    <tr>\n",
              "      <th>53182</th>\n",
              "      <td>53182</td>\n",
              "      <td>No problem said Harry See you in a bit</td>\n",
              "      <td>0</td>\n",
              "    </tr>\n",
              "    <tr>\n",
              "      <th>6034</th>\n",
              "      <td>6034</td>\n",
              "      <td>sort of expression Harry didnt enjoy his sheph...</td>\n",
              "      <td>0</td>\n",
              "    </tr>\n",
              "    <tr>\n",
              "      <th>2422</th>\n",
              "      <td>2422</td>\n",
              "      <td>Aur kitna mahaan badlaao hua Saathwe kaksha ka...</td>\n",
              "      <td>1</td>\n",
              "    </tr>\n",
              "    <tr>\n",
              "      <th>4583</th>\n",
              "      <td>4583</td>\n",
              "      <td>Well well well  Arthur Weasley</td>\n",
              "      <td>0</td>\n",
              "    </tr>\n",
              "    <tr>\n",
              "      <th>51511</th>\n",
              "      <td>51511</td>\n",
              "      <td>In time the brothers reached a river too deep ...</td>\n",
              "      <td>0</td>\n",
              "    </tr>\n",
              "  </tbody>\n",
              "</table>\n",
              "<p>59176 rows × 3 columns</p>\n",
              "</div>"
            ],
            "text/plain": [
              "       Unnamed: 0                                               text  labels\n",
              "7292         7292                                   Angelina scoring       0\n",
              "26114       26114                         arent we still underground       0\n",
              "27355       27355  Um said Cho Well just thought Id say hello bye...       0\n",
              "33915       33915  lined with more portraits of famous Healers an...       0\n",
              "2142         2142   Har Ladki Ke Liye Ek Account Aajkal ek ladki ...       1\n",
              "10663       10663  when he hit the ground the pipe leveled out an...       0\n",
              "31194       31194  Right said Harry vaguely putting down the bott...       0\n",
              "2194         2194  Hagrids chest swelled at these last words Harr...       0\n",
              "10142       10142  Gryffindor common room where the fire had burn...       0\n",
              "52014       52014                   From above came Bellatrixs voice       0\n",
              "4496         4496  and Hermione in an undertone as they left Perc...       0\n",
              "28635       28635  parchment and tapped it with her wand it seale...       0\n",
              "8897         8897  Oooh it might have hidden powers said Hermione...       0\n",
              "36139       36139  would have thought that after over two months ...       0\n",
              "42563       42563  She stepped forward so that she stood over the...       0\n",
              "9380         9380  pored over lists of new subjects marking them ...       0\n",
              "43235       43235  Oh come off it said Ron striding over to her a...       0\n",
              "43164       43164  Dont worry said Ron who was plainly trying not...       0\n",
              "52237       52237  As she spoke she pulled aside the neck of the ...       0\n",
              "7696         7696  suspicious The holidays would be the perfect t...       0\n",
              "5158         5158  been brought up for them and stood at the ends...       0\n",
              "935           935  dekh le am too weak loser mera hath na pakro n...       1\n",
              "47517       47517  When did it appear asked Dumbledore and his ha...       0\n",
              "5346         5346  There was a scramble as everyone tried to seiz...       0\n",
              "3203         3203  gantavy par pahunchane ke Theek paanch minaT p...       1\n",
              "27516       27516  They shuffled out of the compartment feeling t...       0\n",
              "12973       12973                                          Know what       0\n",
              "10537       10537  the back of the door as he spoke and starting ...       0\n",
              "2581         2581  san  ya  kee bat hai jab mainne alasi kee ubha...       1\n",
              "3693         3693  Ron Fred and George seized Harrys arms and pul...       0\n",
              "...           ...                                                ...     ...\n",
              "8015         8015  room while Ron and Hermione used their time of...       0\n",
              "42828       42828      All right then one drink he said ungraciously       0\n",
              "35546       35546  there would be someone in here with whom he co...       0\n",
              "48695       48695                    Only Harry Hagrid George and me       0\n",
              "49755       49755  We woke up and didnt know where you were she s...       0\n",
              "355           355  There was a crash behind them and Uncle Vernon...       0\n",
              "23872       23872  Aunt Petunia had her arms around Dudley who wa...       0\n",
              "26906       26906  Harry Rons best friend in the world going to s...       0\n",
              "29239       29239  towards the staff table when he entered the Gr...       0\n",
              "48247       48247  Though Ariana had been in poor health for a lo...       0\n",
              "1423         1423              You said Ron furiously Go back to bed       0\n",
              "35897       35897  Says you dont come across as a mad person but ...       0\n",
              "37460       37460  he had just seen What was making Harry feel so...       0\n",
              "48441       48441                            Thats brilliant congrat       0\n",
              "49335       49335              That was the one you nearly swallowed       0\n",
              "16609       16609  And yetand yetHarry went restlessly back to th...       0\n",
              "43045       43045  trunk The room looked as though it was being u...       0\n",
              "859           859  unhonne bataya ki is samay kee ye sabase badi ...       1\n",
              "44162       44162                       Or hell nail you to the door       0\n",
              "50171       50171  Phineas Nigellus Hermione explained as she thr...       0\n",
              "24190       24190  though his eyes stung and itched with tirednes...       0\n",
              "53711       53711  The castle was unnaturally silent There were n...       0\n",
              "3652         3652   Tum jise chahte ho poori tarah se usi ke jais...       1\n",
              "7033         7033  of them have been in Slytherin hes always boas...       0\n",
              "49369       49369  Three oclock on the following afternoon found ...       0\n",
              "53182       53182             No problem said Harry See you in a bit       0\n",
              "6034         6034  sort of expression Harry didnt enjoy his sheph...       0\n",
              "2422         2422  Aur kitna mahaan badlaao hua Saathwe kaksha ka...       1\n",
              "4583         4583                     Well well well  Arthur Weasley       0\n",
              "51511       51511  In time the brothers reached a river too deep ...       0\n",
              "\n",
              "[59176 rows x 3 columns]"
            ]
          },
          "metadata": {
            "tags": []
          },
          "execution_count": 16
        }
      ]
    },
    {
      "metadata": {
        "id": "Oeb0aoKV-KX1",
        "colab_type": "code",
        "colab": {}
      },
      "cell_type": "code",
      "source": [
        "    hing_words = [[w for w in s.lower().split() if w not in stop_word]for s in hinglish]\n",
        "    eng_words = [[w for w in s.lower().split() if w not in stop_words]for s in english]\n",
        "\n"
      ],
      "execution_count": 0,
      "outputs": []
    },
    {
      "metadata": {
        "id": "2l2GyWaJPObj",
        "colab_type": "code",
        "colab": {
          "base_uri": "https://localhost:8080/",
          "height": 51
        },
        "outputId": "c3710e50-6ed7-4702-9d95-77e031d0c527"
      },
      "cell_type": "code",
      "source": [
        "!ls"
      ],
      "execution_count": 67,
      "outputs": [
        {
          "output_type": "stream",
          "text": [
            "english_text.csv  HinglishSentiment  hinglish.w2v  stopwords_list.txt\r\n",
            "harry.w2v\t  hinglish_text.csv  sample_data   word_embeddings_hp\r\n"
          ],
          "name": "stdout"
        }
      ]
    },
    {
      "metadata": {
        "id": "iODyakPmADlb",
        "colab_type": "code",
        "colab": {}
      },
      "cell_type": "code",
      "source": [
        "hing_model = Word2Vec.load(\"hinglish.w2v\")\n",
        "eng_model = Word2Vec.load(\"harry.w2v\")"
      ],
      "execution_count": 0,
      "outputs": []
    },
    {
      "metadata": {
        "id": "6k0HFxu-Ar99",
        "colab_type": "code",
        "colab": {}
      },
      "cell_type": "code",
      "source": [
        "vocab = dict()\n",
        "\n",
        "hing_model.wv[\"aa\"]\n",
        "for i in hing_model.wv.vocab:\n",
        "  vocab[i] = hing_model.wv[i]\n",
        "#   print(i)\n",
        "\n",
        "for i in eng_model.wv.vocab:\n",
        "  vocab[i] = eng_model.wv[i]\n",
        "  \n",
        "  \n"
      ],
      "execution_count": 0,
      "outputs": []
    },
    {
      "metadata": {
        "id": "rMyo1yu4A7Yy",
        "colab_type": "code",
        "colab": {
          "base_uri": "https://localhost:8080/",
          "height": 34
        },
        "outputId": "75c4bc47-921f-43d4-bc16-c7d5103dfd62"
      },
      "cell_type": "code",
      "source": [
        "len(vocab.keys())"
      ],
      "execution_count": 24,
      "outputs": [
        {
          "output_type": "execute_result",
          "data": {
            "text/plain": [
              "8009"
            ]
          },
          "metadata": {
            "tags": []
          },
          "execution_count": 24
        }
      ]
    },
    {
      "metadata": {
        "id": "hb4s_fToFCig",
        "colab_type": "code",
        "colab": {
          "base_uri": "https://localhost:8080/",
          "height": 1071
        },
        "outputId": "29ea33cb-550b-4ee5-e37b-26b2d2cd1704"
      },
      "cell_type": "code",
      "source": [
        "# final_data[\"text\"]"
      ],
      "execution_count": 39,
      "outputs": [
        {
          "output_type": "execute_result",
          "data": {
            "text/plain": [
              "49751    After another quarter of an hour however he wa...\n",
              "10360    enemy and the Basilisk flees only from the cro...\n",
              "49249    That is a valuable object said Scrimgeour watc...\n",
              "40132    Okay he said but did not move He had just hear...\n",
              "1376     Wood was now looking as though all his dreams ...\n",
              "34011                                               happen\n",
              "39495                      always did when she was furious\n",
              "1751     Keep out of the way until you catch sight of t...\n",
              "9849     contented himself with scrawling a note to Ron...\n",
              "35312    subject of Bellatrix and her fellow torturers ...\n",
              "44970    The frosty grass crunched underfoot as they st...\n",
              "8344             getting all the credit for his dirty work\n",
              "21178    Harry could feel his face burning Snape was pa...\n",
              "49855    And one day a year after he joined Master Regu...\n",
              "1431     Dayaluta shaktishaali hai khaaskar parivaar ko...\n",
              "5920     somewhat higher than usual I think youre being...\n",
              "30133    These things often skip  er  three generations...\n",
              "28170    descended all over the Hall bringing letters a...\n",
              "40085                                        Theyre brains\n",
              "46549    Harry sighed Yeah I know he said I spose Hagri...\n",
              "17489    Have it your own way Potter said Malfoy grinni...\n",
              "1753     hamane ek japani jahaj men yatra kee isane jan...\n",
              "3975     har Ladki apne Khubsurti ki tarif sunana chaht...\n",
              "31970    the torches On real Galleons thats just a seri...\n",
              "39990    Welcome to the Ministry of Magic Please state ...\n",
              "23878    Where dyou think youre going yelled Uncle Vern...\n",
              "34994    What did you say Snape asked quietly and Harry...\n",
              "5512     keep a stack handy wherever you go but  he gav...\n",
              "3155     ing of nothing else for two weeks Some rich bu...\n",
              "40815    Can you stand he bellowed in Nevilles ear as N...\n",
              "                               ...                        \n",
              "47447    No no no no I cant I cant dont make me I dont ...\n",
              "26730    members of the Order of the Phoenix came and w...\n",
              "42340       You dont say said the Prime Minister furiously\n",
              "44235    Very good indeed said Dumbledore beaming Yes t...\n",
              "2275     charli ka bachapan behad garibi men guzara ve ...\n",
              "544      Harry sat and thought about this while Hagrid ...\n",
              "16509    They rode their bicycles over the lawns Frank ...\n",
              "42450    Snape held up a hand to stop her then pointed ...\n",
              "47425    Because I am much older much cleverer and much...\n",
              "45697    Settle down settle down please Quickly now lot...\n",
              "44550    The other two nodded it had not been a fun tri...\n",
              "48482    Good said Moody limping forward as he pulled t...\n",
              "28453      I never remember my dreams said Ron you say one\n",
              "4571                             stacks of Lockharts books\n",
              "35265           BY ORDER OF THE HIGH INQUISITOROF HOGWARTS\n",
              "28974    behind the rest of the class a smudge of earth...\n",
              "5765     Havent even started said Harry looking jealous...\n",
              "22884    that had passed that night seemed to rise befo...\n",
              "27513    Ill carry that owl if you like  said Luna to H...\n",
              "53582    Never mind that what about the Horcrux Harry s...\n",
              "54657    He doesnt mean it said Hermione and Ginny but ...\n",
              "37938       He fell silent He could hear distant footsteps\n",
              "30888    Hermione looked at him rather pityingly and sh...\n",
              "31996    Yeah I prefer your way said Harry grinning as ...\n",
              "31292    No Quidditch practice said Angelina in hollow ...\n",
              "53335    Theyre supposed to be you blithering idiot sho...\n",
              "20017    might have told the Hufflepuffs to leave Harry...\n",
              "13176    Harry yawned He really wanted to go to bed but...\n",
              "33998                                                  you\n",
              "52552    I miss my wand Hermione said miserably I wish ...\n",
              "Name: text, Length: 59176, dtype: object"
            ]
          },
          "metadata": {
            "tags": []
          },
          "execution_count": 39
        }
      ]
    },
    {
      "metadata": {
        "id": "79NeMWaED-sL",
        "colab_type": "code",
        "colab": {
          "base_uri": "https://localhost:8080/",
          "height": 34
        },
        "outputId": "c96c6719-83f2-4244-a4f9-9f316547f932"
      },
      "cell_type": "code",
      "source": [
        "# prepare tokenizer\n",
        "t = Tokenizer()\n",
        "t.fit_on_texts(vocab.keys())\n",
        "vocab_size = len(t.word_index) + 1\n",
        "print(vocab_size)\n",
        "# integer encode the documents\n",
        "encoded_docs = t.texts_to_sequences(final_data[\"text\"])\n",
        "# print(encoded_docs)"
      ],
      "execution_count": 25,
      "outputs": [
        {
          "output_type": "stream",
          "text": [
            "8010\n"
          ],
          "name": "stdout"
        }
      ]
    },
    {
      "metadata": {
        "id": "PoMaPXIDFK6Y",
        "colab_type": "code",
        "colab": {}
      },
      "cell_type": "code",
      "source": [
        "# vocab_size = len(t.word_index)+1\n",
        "vocab_ls = list(vocab)\n",
        "# print(vocab)\n",
        "# create a weight matrix for words in training docs\n",
        "embedding_matrix = np.zeros((vocab_size, 150))\n",
        "for i,word in enumerate(vocab_ls):\n",
        "#   print(vocab[word])\n",
        "  embedding_vector = vocab[word]\n",
        "  if embedding_vector is not None:\n",
        "    embedding_matrix[i] = embedding_vector\n",
        "\n",
        "# print(model.wv['stuff'])"
      ],
      "execution_count": 0,
      "outputs": []
    },
    {
      "metadata": {
        "id": "4kighLtJGawe",
        "colab_type": "code",
        "colab": {
          "base_uri": "https://localhost:8080/",
          "height": 153
        },
        "outputId": "b2fe7989-848e-43d5-e157-2e9423bf8d34"
      },
      "cell_type": "code",
      "source": [
        "#padding\n",
        "max_length = 10000\n",
        "padded_docs = pad_sequences(encoded_docs, maxlen=max_length, padding='post')\n",
        "print(padded_docs)\n",
        "print(padded_docs.shape)"
      ],
      "execution_count": 27,
      "outputs": [
        {
          "output_type": "stream",
          "text": [
            "[[7653    0    0 ...    0    0    0]\n",
            " [7073 6101    0 ...    0    0    0]\n",
            " [1266 7927 6181 ...    0    0    0]\n",
            " ...\n",
            " [3158 2723 2119 ...    0    0    0]\n",
            " [6181 6181 6181 ...    0    0    0]\n",
            " [ 771 5888 7328 ...    0    0    0]]\n",
            "(59176, 10000)\n"
          ],
          "name": "stdout"
        }
      ]
    },
    {
      "metadata": {
        "id": "6UCJkBGvIYEK",
        "colab_type": "code",
        "colab": {}
      },
      "cell_type": "code",
      "source": [
        "labels = final_data['labels']"
      ],
      "execution_count": 0,
      "outputs": []
    },
    {
      "metadata": {
        "id": "3WLx5ZxPICXs",
        "colab_type": "code",
        "colab": {
          "base_uri": "https://localhost:8080/",
          "height": 255
        },
        "outputId": "cf6ef693-c49a-40ec-8481-f979c49281e7"
      },
      "cell_type": "code",
      "source": [
        "clf = Sequential()\n",
        "clf.add(Embedding(vocab_size,150 , input_length= max_length,  weights=[embedding_matrix], trainable = False))\n",
        "clf.add(Flatten())\n",
        "clf.add(Dense(1, activation=\"sigmoid\"))\n",
        "\n",
        "clf.compile(optimizer = \"adam\", loss = \"binary_crossentropy\", metrics = [\"acc\"])\n",
        "print(clf.summary())"
      ],
      "execution_count": 29,
      "outputs": [
        {
          "output_type": "stream",
          "text": [
            "_________________________________________________________________\n",
            "Layer (type)                 Output Shape              Param #   \n",
            "=================================================================\n",
            "embedding_1 (Embedding)      (None, 10000, 150)        1201500   \n",
            "_________________________________________________________________\n",
            "flatten_1 (Flatten)          (None, 1500000)           0         \n",
            "_________________________________________________________________\n",
            "dense_1 (Dense)              (None, 1)                 1500001   \n",
            "=================================================================\n",
            "Total params: 2,701,501\n",
            "Trainable params: 1,500,001\n",
            "Non-trainable params: 1,201,500\n",
            "_________________________________________________________________\n",
            "None\n"
          ],
          "name": "stdout"
        }
      ]
    },
    {
      "metadata": {
        "id": "nyIH9GiSIKwc",
        "colab_type": "code",
        "colab": {
          "base_uri": "https://localhost:8080/",
          "height": 102
        },
        "outputId": "0cb78855-0a15-41da-929d-c39e26bb7811"
      },
      "cell_type": "code",
      "source": [
        "clf.fit(padded_docs, labels, epochs = 2, batch_size = 32)"
      ],
      "execution_count": 30,
      "outputs": [
        {
          "output_type": "stream",
          "text": [
            "Epoch 1/2\n",
            "59176/59176 [==============================] - 423s 7ms/step - loss: 1.2168 - acc: 0.9245\n",
            "Epoch 2/2\n",
            "59176/59176 [==============================] - 422s 7ms/step - loss: 1.2175 - acc: 0.9245\n"
          ],
          "name": "stdout"
        },
        {
          "output_type": "execute_result",
          "data": {
            "text/plain": [
              "<keras.callbacks.History at 0x7f954e762320>"
            ]
          },
          "metadata": {
            "tags": []
          },
          "execution_count": 30
        }
      ]
    },
    {
      "metadata": {
        "id": "0qeKgjU6IcMO",
        "colab_type": "code",
        "colab": {
          "base_uri": "https://localhost:8080/",
          "height": 34
        },
        "outputId": "2d9a50d2-db15-4a94-e42e-9bf85f369794"
      },
      "cell_type": "code",
      "source": [
        "s = [\"chal kahin door jate hai\"]\n",
        "encode = t.texts_to_sequences(s)\n",
        "padded_docs = pad_sequences(encode, maxlen=max_length, padding='post')\n",
        "\n",
        "\n",
        "clf.predict_classes(padded_docs)"
      ],
      "execution_count": 46,
      "outputs": [
        {
          "output_type": "execute_result",
          "data": {
            "text/plain": [
              "array([[0]], dtype=int32)"
            ]
          },
          "metadata": {
            "tags": []
          },
          "execution_count": 46
        }
      ]
    },
    {
      "metadata": {
        "id": "fDXYUpVZN1S7",
        "colab_type": "code",
        "colab": {
          "base_uri": "https://localhost:8080/",
          "height": 34
        },
        "outputId": "7f1beb13-8789-4cc1-b5fd-24273fc7b206"
      },
      "cell_type": "code",
      "source": [
        "padded_docs\n",
        "print(padded_docs[0])"
      ],
      "execution_count": 47,
      "outputs": [
        {
          "output_type": "stream",
          "text": [
            "[ 460  900 1153 ...    0    0    0]\n"
          ],
          "name": "stdout"
        }
      ]
    },
    {
      "metadata": {
        "id": "foqZ-xSva3Jr",
        "colab_type": "code",
        "colab": {
          "base_uri": "https://localhost:8080/",
          "height": 197
        },
        "outputId": "6448d254-2645-46a7-bf65-b01fcf560285"
      },
      "cell_type": "code",
      "source": [
        "\n",
        "t.word_index[\"chal\"]\n",
        "t.word_index[\"kahin\"]\n",
        "t.word_index[\"chate\"]\n"
      ],
      "execution_count": 38,
      "outputs": [
        {
          "output_type": "error",
          "ename": "KeyError",
          "evalue": "ignored",
          "traceback": [
            "\u001b[0;31m---------------------------------------------------------------------------\u001b[0m",
            "\u001b[0;31mKeyError\u001b[0m                                  Traceback (most recent call last)",
            "\u001b[0;32m<ipython-input-38-0f0b2c6b6bc3>\u001b[0m in \u001b[0;36m<module>\u001b[0;34m()\u001b[0m\n\u001b[1;32m      1\u001b[0m \u001b[0mt\u001b[0m\u001b[0;34m.\u001b[0m\u001b[0mword_index\u001b[0m\u001b[0;34m[\u001b[0m\u001b[0;34m\"chal\"\u001b[0m\u001b[0;34m]\u001b[0m\u001b[0;34m\u001b[0m\u001b[0m\n\u001b[1;32m      2\u001b[0m \u001b[0mt\u001b[0m\u001b[0;34m.\u001b[0m\u001b[0mword_index\u001b[0m\u001b[0;34m[\u001b[0m\u001b[0;34m\"kahin\"\u001b[0m\u001b[0;34m]\u001b[0m\u001b[0;34m\u001b[0m\u001b[0m\n\u001b[0;32m----> 3\u001b[0;31m \u001b[0mt\u001b[0m\u001b[0;34m.\u001b[0m\u001b[0mword_index\u001b[0m\u001b[0;34m[\u001b[0m\u001b[0;34m\"chate\"\u001b[0m\u001b[0;34m]\u001b[0m\u001b[0;34m\u001b[0m\u001b[0m\n\u001b[0m",
            "\u001b[0;31mKeyError\u001b[0m: 'chate'"
          ]
        }
      ]
    },
    {
      "metadata": {
        "id": "3e0mCbd7bgIY",
        "colab_type": "code",
        "colab": {}
      },
      "cell_type": "code",
      "source": [
        ""
      ],
      "execution_count": 0,
      "outputs": []
    }
  ]
}